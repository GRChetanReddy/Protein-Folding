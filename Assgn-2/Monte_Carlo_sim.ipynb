{
  "cells": [
    {
      "cell_type": "code",
      "execution_count": 1,
      "metadata": {
        "id": "x8WnCq-kaMou"
      },
      "outputs": [],
      "source": [
        "import random\n",
        "import numpy as np"
      ]
    },
    {
      "cell_type": "code",
      "execution_count": 2,
      "metadata": {
        "colab": {
          "base_uri": "https://localhost:8080/"
        },
        "id": "1AKDOL_YFQGG",
        "outputId": "42b77121-f561-47f1-9594-e29132a5b550"
      },
      "outputs": [
        {
          "output_type": "stream",
          "name": "stdout",
          "text": [
            "[[1, 1, 1, 1, 0, 0, 0, 0, 0, 0, 0, 0, 0, 0, 0]]\n"
          ]
        }
      ],
      "source": [
        "def get_valid_trans(state):\n",
        "  trans=[]\n",
        "  if state==[0]*15:\n",
        "    trans.append([0]*14+[1])\n",
        "    #trans.append([1]+[0]*14)\n",
        "  else:\n",
        "    for i in range(15):\n",
        "      if state[i]==0:\n",
        "        a=state[:i]+[1]+state[i+1:]\n",
        "        trans.append(a)\n",
        "        break\n",
        "    #for i in range(14,0,-1):\n",
        "    #  if state[i]==0:\n",
        "    #    a=state[:i]+[1]+state[i+1:]\n",
        "    #    trans.append(a)\n",
        "    #    break\n",
        "  return trans\n",
        "print(get_valid_trans([1, 1, 1, 0, 0, 0, 0, 0, 0, 0, 0, 0, 0, 0, 0]))"
      ]
    },
    {
      "cell_type": "code",
      "execution_count": 3,
      "metadata": {
        "id": "Vx4Gh8tLPQcx"
      },
      "outputs": [],
      "source": [
        "def montecarlo(n_simu,max_steps):\n",
        "  routes=[]\n",
        "  good_routes=0\n",
        "  for i in range(n_simu):\n",
        "    state=[0]*15\n",
        "    route=[state.copy()]\n",
        "    step=0\n",
        "    while step<max_steps  and state!=[1]*15:\n",
        "      transi=get_valid_trans(state)\n",
        "      if not transi:\n",
        "        break\n",
        "      new_state=random.choice(transi)\n",
        "      sw1=cal_sw(new_state)\n",
        "      sw2=cal_sw(state)\n",
        "      w=sw1/sw2\n",
        "      if w>1:\n",
        "        state=new_state\n",
        "        route.append(state)\n",
        "      else:\n",
        "        if random.random()<w:\n",
        "          state=new_state\n",
        "          route.append(state)\n",
        "      step+=1\n",
        "    if state==[1]*15:\n",
        "      if route not in routes:\n",
        "        routes.append(route)\n",
        "        good_routes+=1\n",
        "  #print(routes)\n",
        "  print(good_routes)\n",
        "  return routes, good_routes\n",
        "\n",
        "def get_valid_trans(state):\n",
        "  trans=[]\n",
        "  if state==[0]*15:\n",
        "    state[random.randint(0, 14)] = 1\n",
        "    return [state]\n",
        "  else:\n",
        "    for i in range(15):\n",
        "      if i==0 and state[i]==1:\n",
        "        break\n",
        "      elif state[i]==1:\n",
        "        a=state[:i-1]+[1]+state[i:]\n",
        "        trans.append(a)\n",
        "        break\n",
        "    for i in range(14,0,-1):\n",
        "      if state[i]==1:\n",
        "        a=state[:i+1]+[1]+state[i+2:]\n",
        "        trans.append(a)\n",
        "        break\n",
        "  return trans\n",
        "\n",
        "\n",
        "def cal_sw(state):\n",
        "  sigma=10**-3\n",
        "  s=2\n",
        "  w=1\n",
        "  for i in range(15):\n",
        "    if i==0 and state[i]!=0:\n",
        "        w*=sigma*s\n",
        "    elif i > 0 and state[i]==1 and state[i-1]==0:\n",
        "        w*=sigma*s\n",
        "    elif state[i]==1 and state[i-1]==1 :\n",
        "        w*=s\n",
        "  return w"
      ]
    },
    {
      "cell_type": "code",
      "execution_count": 4,
      "metadata": {
        "id": "eQeZSFbcpG7A",
        "colab": {
          "base_uri": "https://localhost:8080/"
        },
        "outputId": "bb788fe2-0ad2-40cb-bcb4-07f264820b1d"
      },
      "outputs": [
        {
          "output_type": "stream",
          "name": "stdout",
          "text": [
            "16241\n"
          ]
        }
      ],
      "source": [
        "routes, a = montecarlo(1000000, 100)"
      ]
    },
    {
      "cell_type": "code",
      "execution_count": 4,
      "metadata": {
        "colab": {
          "base_uri": "https://localhost:8080/"
        },
        "id": "apNOVepVi-1B",
        "outputId": "9f98fb88-1a5f-43a4-955a-b9d902e781ce"
      },
      "outputs": [
        {
          "output_type": "stream",
          "name": "stdout",
          "text": [
            "16246\n"
          ]
        }
      ],
      "source": [
        "print(a)"
      ]
    },
    {
      "cell_type": "code",
      "execution_count": null,
      "metadata": {
        "colab": {
          "base_uri": "https://localhost:8080/",
          "height": 722
        },
        "id": "iqdtMilLdbpe",
        "outputId": "67739dd1-af37-4a87-8e5c-9f89a29464bf"
      },
      "outputs": [
        {
          "output_type": "stream",
          "name": "stdout",
          "text": [
            "8648\n",
            "11889\n",
            "13622\n",
            "14664\n",
            "15211\n",
            "15641\n",
            "15907\n",
            "16060\n",
            "16179\n",
            "16233\n"
          ]
        },
        {
          "output_type": "stream",
          "name": "stderr",
          "text": [
            "<ipython-input-3-832f91e56f20>:13: UserWarning: No artists with labels found to put in legend.  Note that artists whose label start with an underscore are ignored when legend() is called with no argument.\n",
            "  plt.legend()\n"
          ]
        },
        {
          "output_type": "display_data",
          "data": {
            "text/plain": [
              "<Figure size 800x500 with 1 Axes>"
            ],
            "image/png": "[encoded data removed]"
          },
          "metadata": {}
        },
        {
          "output_type": "stream",
          "name": "stdout",
          "text": [
            "[8648, 11889, 13622, 14664, 15211, 15641, 15907, 16060, 16179, 16233]\n"
          ]
        }
      ],
      "source": [
        "import matplotlib.pyplot as plt\n",
        "import numpy as np\n",
        "def simu_multiple_runs(max_simu, st):\n",
        "    simu_values = list(range(100000, max_simu + 1, st))\n",
        "    sr = []\n",
        "    for i in simu_values:\n",
        "        good_routes = montecarlo(i, max_steps=100)\n",
        "        succ = good_routes\n",
        "        sr.append(succ)\n",
        "    plt.figure(figsize=(8, 5))\n",
        "    plt.plot(simu_values, sr, marker='o', linestyle='-')\n",
        "    plt.axhline(y=sr[-1], linestyle='--')\n",
        "    plt.legend()\n",
        "    plt.show()\n",
        "    return sr\n",
        "a=simu_multiple_runs(1000000, 100000)\n",
        "print(a)\n"
      ]
    }
  ],
  "metadata": {
    "colab": {
      "provenance": []
    },
    "kernelspec": {
      "display_name": "Python 3",
      "name": "python3"
    },
    "language_info": {
      "name": "python"
    }
  },
  "nbformat": 4,
  "nbformat_minor": 0
}